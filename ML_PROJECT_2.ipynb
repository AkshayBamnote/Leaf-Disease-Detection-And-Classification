{
  "nbformat": 4,
  "nbformat_minor": 0,
  "metadata": {
    "colab": {
      "private_outputs": true,
      "provenance": []
    },
    "kernelspec": {
      "name": "python3",
      "display_name": "Python 3"
    },
    "language_info": {
      "name": "python"
    }
  },
  "cells": [
    {
      "cell_type": "code",
      "source": [
        "import numpy as np\n",
        "from keras.preprocessing.image import ImageDataGenerator\n",
        "from keras.applications.vgg19 import VGG19, preprocess_input\n",
        "from keras.layers import Dense, Flatten\n",
        "from keras.models import Model\n",
        "from keras.preprocessing.image import load_img, img_to_array"
      ],
      "metadata": {
        "id": "T34jj_IsCT5-"
      },
      "execution_count": null,
      "outputs": []
    },
    {
      "cell_type": "code",
      "source": [
        "# Data generators\n",
        "train_datagen = ImageDataGenerator(\n",
        "    zoom_range=0.5, shear_range=0.3, horizontal_flip=True, preprocessing_function=preprocess_input\n",
        ")\n",
        "val_datagen = ImageDataGenerator(preprocessing_function=preprocess_input)\n",
        "\n",
        "train = train_datagen.flow_from_directory('train_path', target_size=(256, 256), batch_size=32)\n",
        "val = val_datagen.flow_from_directory('val_path', target_size=(256, 256), batch_size=32)"
      ],
      "metadata": {
        "id": "gHviEy3pBx01"
      },
      "execution_count": null,
      "outputs": []
    },
    {
      "cell_type": "code",
      "source": [
        "# Load pre-trained VGG19 model without top layers\n",
        "base_model = VGG19(input_shape=(256, 256, 3), include_top=False)\n",
        "for layer in base_model.layers:\n",
        "    layer.trainable = False\n"
      ],
      "metadata": {
        "id": "FLZ1sVyXBx3R"
      },
      "execution_count": null,
      "outputs": []
    },
    {
      "cell_type": "code",
      "source": [
        "base_model.summary()"
      ],
      "metadata": {
        "id": "PZ03Bm0CC3vX"
      },
      "execution_count": null,
      "outputs": []
    },
    {
      "cell_type": "code",
      "source": [
        "# Custom head\n",
        "X = Flatten()(base_model.output)\n",
        "X = Dense(units=38, activation='softmax')(X)\n",
        "model = Model(base_model.input, X)"
      ],
      "metadata": {
        "id": "H91yu_aKBx5-"
      },
      "execution_count": null,
      "outputs": []
    },
    {
      "cell_type": "code",
      "source": [
        "model.summary()"
      ],
      "metadata": {
        "id": "d3i9pStsC_pI"
      },
      "execution_count": null,
      "outputs": []
    },
    {
      "cell_type": "code",
      "source": [
        "# Compile the model\n",
        "model.compile(optimizer='adam', loss='categorical_crossentropy', metrics=['accuracy'])"
      ],
      "metadata": {
        "id": "6h6AavXUBx8f"
      },
      "execution_count": null,
      "outputs": []
    },
    {
      "cell_type": "code",
      "source": [
        "# Train the model\n",
        "history = model.fit_generator(train, steps_per_epoch=16, epochs=50, verbose=1, validation_data=val, validation_steps=16)"
      ],
      "metadata": {
        "id": "JxX1L9jDBx-4"
      },
      "execution_count": null,
      "outputs": []
    },
    {
      "cell_type": "code",
      "source": [
        "# Evaluate the model\n",
        "accuracy = model.evaluate_generator(val)[1]\n",
        "print(f\"The Accuracy of your model is {accuracy*100}%\")\n"
      ],
      "metadata": {
        "id": "bQZbsksYByBj"
      },
      "execution_count": null,
      "outputs": []
    },
    {
      "cell_type": "code",
      "source": [
        "# Class labels\n",
        "class_labels = dict(zip(list(train.class_indices.values()), list(train.class_indices.keys())))"
      ],
      "metadata": {
        "id": "jNIMZCL3ByD2"
      },
      "execution_count": null,
      "outputs": []
    },
    {
      "cell_type": "code",
      "source": [
        "# Prediction function\n",
        "def predict_class(path):\n",
        "    img = load_img(path, target_size=(256, 256))\n",
        "    img_array = img_to_array(img)\n",
        "    img_preprocessed = preprocess_input(img_array)\n",
        "    img_expanded = np.expand_dims(img_preprocessed, axis=0)\n",
        "    prediction = np.argmax(model.predict(img_expanded))\n",
        "    print(f'The Image belongs to {class_labels[prediction]}')\n"
      ],
      "metadata": {
        "id": "eK7UWdy3ByGi"
      },
      "execution_count": null,
      "outputs": []
    },
    {
      "cell_type": "code",
      "source": [
        "# Test prediction\n",
        "test_image_path = 'test_image_path'\n",
        "predict_class(test_image_path)"
      ],
      "metadata": {
        "id": "wYdOsuOgByIu"
      },
      "execution_count": null,
      "outputs": []
    },
    {
      "cell_type": "code",
      "source": [],
      "metadata": {
        "id": "JeCSenM4ByMN"
      },
      "execution_count": null,
      "outputs": []
    }
  ]
}